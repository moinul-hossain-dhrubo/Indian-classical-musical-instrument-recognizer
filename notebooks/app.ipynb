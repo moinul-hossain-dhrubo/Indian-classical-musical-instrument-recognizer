{
  "cells": [
    {
      "cell_type": "code",
      "execution_count": 1,
      "metadata": {
        "id": "UtWMVEPUgurg"
      },
      "outputs": [],
      "source": [
        "#|default_exp app"
      ]
    },
    {
      "cell_type": "markdown",
      "metadata": {
        "id": "wU2LMUSGhUbE"
      },
      "source": [
        "#Musical Instrument Recognizer"
      ]
    },
    {
      "cell_type": "code",
      "execution_count": 1,
      "metadata": {
        "colab": {
          "base_uri": "https://localhost:8080/"
        },
        "id": "3txLmR_EhYZA",
        "outputId": "2f7a0b63-d437-42db-cc3a-bac114b2b184"
      },
      "outputs": [
        {
          "name": "stderr",
          "output_type": "stream",
          "text": [
            "ERROR: Some build dependencies for cymem==2.0.2 from https://files.pythonhosted.org/packages/8b/dc/0976e04cc46f86e0dd3ee3797ec68057eaafebf31daca9a076dc138b9920/cymem-2.0.2.tar.gz (from fastai) conflict with the backend dependencies: wheel==0.42.0 is incompatible with wheel>=0.32.0,<0.33.0.\n"
          ]
        }
      ],
      "source": [
        "!pip install -Uqq fastai fastbook nbdev gradio"
      ]
    },
    {
      "cell_type": "code",
      "execution_count": 1,
      "metadata": {
        "id": "15NDmjd8hmMm"
      },
      "outputs": [
        {
          "ename": "ModuleNotFoundError",
          "evalue": "No module named 'fastai'",
          "output_type": "error",
          "traceback": [
            "\u001b[1;31m---------------------------------------------------------------------------\u001b[0m",
            "\u001b[1;31mModuleNotFoundError\u001b[0m                       Traceback (most recent call last)",
            "\u001b[1;32md:\\Data Science\\MasterCourse\\Capstone Project 2 - image recognizer\\Project Files\\indian_classical_musical_instrument_recognizer\\app.ipynb Cell 4\u001b[0m line \u001b[0;36m2\n\u001b[0;32m      <a href='vscode-notebook-cell:/d%3A/Data%20Science/MasterCourse/Capstone%20Project%202%20-%20image%20recognizer/Project%20Files/indian_classical_musical_instrument_recognizer/app.ipynb#W5sZmlsZQ%3D%3D?line=0'>1</a>\u001b[0m \u001b[39m#!export\u001b[39;00m\n\u001b[1;32m----> <a href='vscode-notebook-cell:/d%3A/Data%20Science/MasterCourse/Capstone%20Project%202%20-%20image%20recognizer/Project%20Files/indian_classical_musical_instrument_recognizer/app.ipynb#W5sZmlsZQ%3D%3D?line=1'>2</a>\u001b[0m \u001b[39mfrom\u001b[39;00m \u001b[39mfastai\u001b[39;00m\u001b[39m.\u001b[39;00m\u001b[39mvision\u001b[39;00m\u001b[39m.\u001b[39;00m\u001b[39mall\u001b[39;00m \u001b[39mimport\u001b[39;00m load_learner\n\u001b[0;32m      <a href='vscode-notebook-cell:/d%3A/Data%20Science/MasterCourse/Capstone%20Project%202%20-%20image%20recognizer/Project%20Files/indian_classical_musical_instrument_recognizer/app.ipynb#W5sZmlsZQ%3D%3D?line=2'>3</a>\u001b[0m \u001b[39mimport\u001b[39;00m \u001b[39mgradio\u001b[39;00m \u001b[39mas\u001b[39;00m \u001b[39mgr\u001b[39;00m\n",
            "\u001b[1;31mModuleNotFoundError\u001b[0m: No module named 'fastai'"
          ]
        }
      ],
      "source": [
        "#!export\n",
        "from fastai.vision.all import load_learner\n",
        "import gradio as gr"
      ]
    },
    {
      "cell_type": "code",
      "execution_count": 16,
      "metadata": {
        "id": "CXrdoKsLiCgz"
      },
      "outputs": [],
      "source": [
        "#!export\n",
        "model = load_learner(f\"models/musical-instrument-recognizer-v6.pkl\")"
      ]
    },
    {
      "cell_type": "code",
      "execution_count": 17,
      "metadata": {
        "id": "ikyofbmki9rk"
      },
      "outputs": [],
      "source": [
        "#|export\n",
        "musical_instruments = (\n",
        "    'Bansuri',\n",
        "    'Harmonium',\n",
        "    'Pakhawaz',\n",
        "    'Santoor',\n",
        "    'Sarangi',\n",
        "    'Sarod',\n",
        "    'Shehnai',\n",
        "    'Sitar',\n",
        "    'Tabla',\n",
        "    'Tanpura'\n",
        ")\n",
        "\n",
        "def recognize_image(image):\n",
        "  pred, idx, probs = model.predict(image)\n",
        "  return dict(zip(musical_instruments, map(float, probs)))"
      ]
    },
    {
      "cell_type": "code",
      "execution_count": 18,
      "metadata": {
        "colab": {
          "base_uri": "https://localhost:8080/",
          "height": 209
        },
        "id": "8QOU1viCkYPy",
        "outputId": "df789043-f5df-4c1a-e581-5ce62439f948"
      },
      "outputs": [
        {
          "data": {
            "image/png": "[encoded data removed]",
            "text/plain": [
              "<PIL.JpegImagePlugin.JpegImageFile image mode=RGB size=192x192>"
            ]
          },
          "execution_count": 18,
          "metadata": {},
          "output_type": "execute_result"
        }
      ],
      "source": [
        "from PIL import Image\n",
        "img = Image.open(f'test_data/bansuri.jfif')\n",
        "img.thumbnail((192,192))\n",
        "img"
      ]
    },
    {
      "cell_type": "code",
      "execution_count": 19,
      "metadata": {
        "colab": {
          "base_uri": "https://localhost:8080/",
          "height": 191
        },
        "id": "GjFbAe0WlPX5",
        "outputId": "d94b325b-4c3e-4b9d-800f-450fc8b30413"
      },
      "outputs": [
        {
          "data": {
            "text/html": [
              "\n",
              "<style>\n",
              "    /* Turns off some styling */\n",
              "    progress {\n",
              "        /* gets rid of default border in Firefox and Opera. */\n",
              "        border: none;\n",
              "        /* Needs to be in here for Safari polyfill so background images work as expected. */\n",
              "        background-size: auto;\n",
              "    }\n",
              "    progress:not([value]), progress:not([value])::-webkit-progress-bar {\n",
              "        background: repeating-linear-gradient(45deg, #7e7e7e, #7e7e7e 10px, #5c5c5c 10px, #5c5c5c 20px);\n",
              "    }\n",
              "    .progress-bar-interrupted, .progress-bar-interrupted::-webkit-progress-bar {\n",
              "        background: #F44336;\n",
              "    }\n",
              "</style>\n"
            ],
            "text/plain": [
              "<IPython.core.display.HTML object>"
            ]
          },
          "metadata": {},
          "output_type": "display_data"
        },
        {
          "data": {
            "text/html": [],
            "text/plain": [
              "<IPython.core.display.HTML object>"
            ]
          },
          "metadata": {},
          "output_type": "display_data"
        },
        {
          "data": {
            "text/plain": [
              "{'Bansuri': 0.9995973706245422,\n",
              " 'Harmonium': 3.5202569961256813e-06,\n",
              " 'Pakhawaz': 2.915377308454481e-06,\n",
              " 'Santoor': 2.1727865373577515e-07,\n",
              " 'Sarangi': 4.1493856883789704e-07,\n",
              " 'Sarod': 1.0827788088363377e-07,\n",
              " 'Shehnai': 0.0003836842952296138,\n",
              " 'Sitar': 9.002708793559577e-06,\n",
              " 'Tabla': 2.717604274948826e-06,\n",
              " 'Tanpura': 1.3091357686789706e-07}"
            ]
          },
          "execution_count": 19,
          "metadata": {},
          "output_type": "execute_result"
        }
      ],
      "source": [
        "recognize_image(img)"
      ]
    },
    {
      "cell_type": "code",
      "execution_count": 20,
      "metadata": {
        "colab": {
          "base_uri": "https://localhost:8080/"
        },
        "id": "_3eo0O8tmwi5",
        "outputId": "eeb35528-c779-46d6-cc8a-3c39efca8dbb"
      },
      "outputs": [
        {
          "name": "stderr",
          "output_type": "stream",
          "text": [
            "/usr/local/lib/python3.10/dist-packages/gradio/inputs.py:256: UserWarning: Usage of gradio.inputs is deprecated, and will not be supported in the future, please import your component from gradio.components\n",
            "  warnings.warn(\n",
            "/usr/local/lib/python3.10/dist-packages/gradio/deprecation.py:40: UserWarning: `optional` parameter is deprecated, and it has no effect\n",
            "  warnings.warn(value)\n",
            "/usr/local/lib/python3.10/dist-packages/gradio/outputs.py:196: UserWarning: Usage of gradio.outputs is deprecated, and will not be supported in the future, please import your components from gradio.components\n",
            "  warnings.warn(\n",
            "/usr/local/lib/python3.10/dist-packages/gradio/deprecation.py:40: UserWarning: The 'type' parameter has been deprecated. Use the Number component instead.\n",
            "  warnings.warn(value)\n"
          ]
        },
        {
          "name": "stdout",
          "output_type": "stream",
          "text": [
            "IMPORTANT: You are using gradio version 3.13.0, however version 3.14.0 is available, please upgrade.\n",
            "--------\n",
            "Colab notebook detected. To show errors in colab notebook, set debug=True in launch()\n",
            "\n",
            "Setting up a public link... we have recently upgraded the way public links are generated. If you encounter any problems, please report the issue and downgrade to gradio version 3.13.0\n",
            ".\n",
            "Running on public URL: https://9fc74c01-6bc9-4897.gradio.live\n",
            "\n",
            "This share link expires in 72 hours. For free permanent hosting and GPU upgrades (NEW!), check out Spaces: https://huggingface.co/spaces\n"
          ]
        },
        {
          "data": {
            "text/plain": []
          },
          "execution_count": 20,
          "metadata": {},
          "output_type": "execute_result"
        }
      ],
      "source": [
        "#!export\n",
        "image = gr.inputs.Image(shape=(192,192))\n",
        "label = gr.outputs.Label()\n",
        "examples = [\n",
        "    'test_data/bansuri.jfif',\n",
        "    'test_data/harmonium.jfif',\n",
        "    'test_data/pakhawaj.jfif',\n",
        "    'test_data/santoor.jfif',\n",
        "    'test_data/sarengi.jfif',\n",
        "    'test_data/sarod.jfif',\n",
        "    'test_data/shehnai.jfif',\n",
        "    'test_data/sitar.jfif',\n",
        "    'test_data/tabla.jfif',\n",
        "    'test_data/tanpura.jfif'\n",
        "]\n",
        "\n",
        "iface = gr.Interface(fn=recognize_image, inputs = image, outputs= label, examples = examples)\n",
        "iface.launch(inline =False, share = True)"
      ]
    },
    {
      "cell_type": "markdown",
      "metadata": {
        "id": "lMYKAOtLuLLA"
      },
      "source": [
        "# Notebook to Python Script Export"
      ]
    },
    {
      "cell_type": "code",
      "execution_count": 22,
      "metadata": {
        "id": "mkTtKu_GuPHT"
      },
      "outputs": [],
      "source": [
        "# from nbdev.export import notebook2script\n",
        "# notebook2script('app.ipynb')"
      ]
    }
  ],
  "metadata": {
    "colab": {
      "provenance": []
    },
    "kernelspec": {
      "display_name": "Python 3",
      "name": "python3"
    },
    "language_info": {
      "codemirror_mode": {
        "name": "ipython",
        "version": 3
      },
      "file_extension": ".py",
      "mimetype": "text/x-python",
      "name": "python",
      "nbconvert_exporter": "python",
      "pygments_lexer": "ipython3",
      "version": "3.12.0"
    }
  },
  "nbformat": 4,
  "nbformat_minor": 0
}
